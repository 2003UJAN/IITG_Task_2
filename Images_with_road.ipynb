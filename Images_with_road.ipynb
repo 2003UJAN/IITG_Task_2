{
  "nbformat": 4,
  "nbformat_minor": 0,
  "metadata": {
    "colab": {
      "provenance": [],
      "authorship_tag": "ABX9TyMgi7cyQ6V/F3QRp/+ZvVKh",
      "include_colab_link": true
    },
    "kernelspec": {
      "name": "python3",
      "display_name": "Python 3"
    },
    "language_info": {
      "name": "python"
    }
  },
  "cells": [
    {
      "cell_type": "markdown",
      "metadata": {
        "id": "view-in-github",
        "colab_type": "text"
      },
      "source": [
        "<a href=\"https://colab.research.google.com/github/2003UJAN/IITG_Task_2/blob/main/Images_with_road.ipynb\" target=\"_parent\"><img src=\"https://colab.research.google.com/assets/colab-badge.svg\" alt=\"Open In Colab\"/></a>"
      ]
    },
    {
      "cell_type": "code",
      "source": [
        "import zipfile\n",
        "import cv2\n",
        "import os"
      ],
      "metadata": {
        "id": "ui6DAq2WF3Nd"
      },
      "execution_count": 24,
      "outputs": []
    },
    {
      "cell_type": "code",
      "source": [
        "with zipfile.ZipFile('/content/Sunny.zip', 'r') as zip_ref:\n",
        "    zip_ref.extractall('/content/images')"
      ],
      "metadata": {
        "id": "pX0LnO5BF3yU"
      },
      "execution_count": 22,
      "outputs": []
    },
    {
      "cell_type": "code",
      "source": [
        "def detect_road(image_path):\n",
        "    img = cv2.imread(image_path)\n",
        "    if img is None:\n",
        "        print(f\"Error: Unable to read image {image_path}\")\n",
        "        return False\n",
        "    gray = cv2.cvtColor(img, cv2.COLOR_BGR2GRAY)\n",
        "    blurred = cv2.GaussianBlur(gray, (5, 5), 0)\n",
        "    contours, _ = cv2.findContours(edges.copy(), cv2.RETR_EXTERNAL, cv2.CHAIN_APPROX_SIMPLE)\n",
        "    min_area_threshold = 5000\n",
        "    for contour in contours:\n",
        "        area = cv2.contourArea(contour)\n",
        "        if area > min_area_threshold:\n",
        "            return True\n",
        "    return False"
      ],
      "metadata": {
        "id": "EzjsJBItGCVo"
      },
      "execution_count": 23,
      "outputs": []
    },
    {
      "cell_type": "code",
      "source": [
        "for file_name in os.listdir('/content/images'):\n",
        "    file_path = os.path.join('/content/images', file_name)\n",
        "    if os.path.isfile(file_path):\n",
        "        if not detect_road(file_path):\n",
        "            os.remove(file_path)\n",
        "    else:\n",
        "        print(f\"Skipping directory: {file_path}\")"
      ],
      "metadata": {
        "colab": {
          "base_uri": "https://localhost:8080/"
        },
        "id": "GBupYUMvGb0Z",
        "outputId": "34d91bc7-687c-4b42-aa9a-c46afa194525"
      },
      "execution_count": 25,
      "outputs": [
        {
          "output_type": "stream",
          "name": "stdout",
          "text": [
            "Skipping directory: /content/images/Sunny\n"
          ]
        }
      ]
    },
    {
      "cell_type": "code",
      "source": [
        "with zipfile.ZipFile('/content/road_images.zip', 'w') as zip_ref:\n",
        "    for file_name in os.listdir('/content/images'):\n",
        "        file_path = os.path.join('/content/images', file_name)\n",
        "        zip_ref.write(file_path, arcname=file_name)"
      ],
      "metadata": {
        "id": "5nCfNwfFGesw"
      },
      "execution_count": 26,
      "outputs": []
    }
  ]
}